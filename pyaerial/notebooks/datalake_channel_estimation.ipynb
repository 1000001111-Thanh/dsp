{
 "cells": [
  {
   "cell_type": "markdown",
   "id": "541d31ae",
   "metadata": {},
   "source": [
    "# Using pyAerial for channel estimation on Aerial Data Lake data\n",
    "This example shows how to use the pyAerial bindings to run cuPHY GPU accelerated channel estimation for 5G NR PUSCH. 5G NR PUSCH data is read from an example over the air captured PUSCH dataset collected and stored using Aerial Data Lake, and the channel is estimated using pyAerial and cuPHY based on the corresponding PUSCH parameters.\n",
    "\n",
    "**Note:** This example requires that the clickhouse server is running and that the example data has been stored in the database. Refer to the Aerial Data Lake documentation on how to do this."
   ]
  },
  {
   "cell_type": "code",
   "execution_count": null,
   "id": "2de90762-b2ec-4598-9265-9b7e2c7a1cf3",
   "metadata": {},
   "outputs": [],
   "source": [
    "# Check platform.\n",
    "import platform\n",
    "if platform.machine() not in ['x86_64', 'aarch64']:\n",
    "    raise SystemExit(\"Unsupported platform!\")"
   ]
  },
  {
   "cell_type": "markdown",
   "id": "089f76fc",
   "metadata": {},
   "source": [
    "## Imports"
   ]
  },
  {
   "cell_type": "code",
   "execution_count": null,
   "id": "9eefc100",
   "metadata": {},
   "outputs": [],
   "source": [
    "import math\n",
    "import os\n",
    "os.environ[\"CUDA_VISIBLE_DEVICES\"] = \"0\"\n",
    "\n",
    "import numpy as np\n",
    "import pandas as pd\n",
    "import matplotlib.pyplot as plt\n",
    "\n",
    "# Connecting to clickhouse on remote server\n",
    "import clickhouse_connect\n",
    "\n",
    "# Import the channel estimator and some utilities for converting\n",
    "# the DMRS fields in the right format from the SCF FAPI format that the dataset follows.\n",
    "from aerial.phy5g.algorithms import ChannelEstimator\n",
    "from aerial.util.fapi import dmrs_fapi_to_bit_array"
   ]
  },
  {
   "cell_type": "markdown",
   "id": "368229df",
   "metadata": {},
   "source": [
    "## Data\n",
    "We use an example dataset which has been captured from a real over the air PUSCH transmission. \n",
    "The \"fapi\" table in the database contains the metadata for each PUSCH transmission and the \"fh\" table contains all of the samples for that slot. "
   ]
  },
  {
   "cell_type": "code",
   "execution_count": null,
   "id": "28a50831-102e-4263-bc8a-92cc327e6557",
   "metadata": {},
   "outputs": [],
   "source": [
    "# Create the pyAerial (cuPHY) channel estimator.\n",
    "num_ues = 1\n",
    "num_rx_ant = 4\n",
    "channel_estimator = ChannelEstimator(num_rx_ant=num_rx_ant)\n",
    "\n",
    "# Connect to the local database\n",
    "client = clickhouse_connect.get_client(host='localhost')\n",
    "\n",
    "# Pick some pusch records from the database\n",
    "pusch_records = client.query_df('select * from fapi order by TsTaiNs limit 10')"
   ]
  },
  {
   "cell_type": "markdown",
   "id": "39cd952b-6574-4284-bc25-06315b836108",
   "metadata": {},
   "source": [
    "## Run channel estimation\n",
    "From the PUSCH record we extract the PUSCH DMRS parameters and use the TAI time entry to select the IQ samples for that slot\n",
    "Channel estimation is then run using the extracted parameters, and the absolute values of the estimated channels are plotted in the same figure."
   ]
  },
  {
   "cell_type": "code",
   "execution_count": null,
   "id": "7127a959",
   "metadata": {},
   "outputs": [],
   "source": [
    "for index,pusch_record in pusch_records.iterrows():\n",
    "    query = f\"\"\"select TsTaiNs,fhData from fh where \n",
    "            TsTaiNs == {pusch_record.TsTaiNs.timestamp()}\n",
    "            \"\"\"\n",
    "\n",
    "    fh = client.query_df(query)\n",
    "    \n",
    "    # Make sure that the fronthaul database is complete for the SFN.Slot we've chosen\n",
    "    if fh.index.size < 1:\n",
    "        pusch_records = pusch_records.drop(index)\n",
    "        continue;\n",
    "    \n",
    "    fh_samp = np.array(fh['fhData'][0], dtype=np.float32)\n",
    "    rx_slot = np.swapaxes(fh_samp.view(np.complex64).reshape(4, 14, 273*12),2,0)\n",
    "\n",
    "  # Extract all the needed parameters from the PUSCH record.\n",
    "    slot = int(pusch_record.Slot)\n",
    "    rntis = [pusch_record.rnti]\n",
    "    layers = [pusch_record.nrOfLayers]\n",
    "    start_prb = pusch_record.rbStart\n",
    "    num_prbs = pusch_record.rbSize\n",
    "    start_sym = pusch_record.StartSymbolIndex\n",
    "    num_symbols = pusch_record.NrOfSymbols\n",
    "    scids = [int(pusch_record.SCID)]\n",
    "    data_scids = [pusch_record.dataScramblingId]\n",
    "    dmrs_scrm_id = pusch_record.ulDmrsScramblingId\n",
    "    num_dmrs_cdm_grps_no_data = pusch_record.numDmrsCdmGrpsNoData\n",
    "    dmrs_syms = dmrs_fapi_to_bit_array(int(pusch_record.ulDmrsSymbPos))\n",
    "    dmrs_ports = [pusch_record.dmrsPorts]\n",
    "    dmrs_max_len = 1\n",
    "    dmrs_add_ln_pos = 2\n",
    "    num_subcarriers = num_prbs * 12\n",
    "    mcs_tables = [pusch_record.mcsTable]\n",
    "    mcs_indices = [pusch_record.mcsIndex]\n",
    "    coderates = [pusch_record.targetCodeRate/10.]\n",
    "    tb_sizes = [pusch_record.TBSize]\n",
    "    mod_orders = [pusch_record.qamModOrder]\n",
    "    tb_input = np.array(pusch_record.pduData)\n",
    "\n",
    "\n",
    "    # Run PyAerial (cuPHY) channel estimation.\n",
    "    ch_est = channel_estimator.estimate(\n",
    "        rx_slot=rx_slot,\n",
    "        num_ues=num_ues,\n",
    "        layers=layers,            \n",
    "        scids=scids,\n",
    "        slot=slot,\n",
    "        dmrs_ports=dmrs_ports,            \n",
    "        dmrs_syms=dmrs_syms,\n",
    "        dmrs_scrm_id=dmrs_scrm_id,\n",
    "        dmrs_max_len=dmrs_max_len,\n",
    "        dmrs_add_ln_pos=dmrs_add_ln_pos,\n",
    "        num_dmrs_cdm_grps_no_data=num_dmrs_cdm_grps_no_data,          \n",
    "        start_prb=start_prb,\n",
    "        num_prbs=num_prbs,\n",
    "        prg_size=1,\n",
    "        num_ul_streams=1,\n",
    "        start_sym=start_sym,\n",
    "        num_symbols=num_symbols\n",
    "    )\n",
    "    \n",
    "    fig, axs = plt.subplots(1)\n",
    "    fig.suptitle(\"Channel estimates for SFN.Slot: \"+str(pusch_record.SFN)+\".\"+str(pusch_record.Slot))\n",
    "    axs.set_title(pusch_record.TsTaiNs)\n",
    "    for ant in range(4):\n",
    "         axs.plot(np.abs(ch_est[0][ant, 0, :, 0]))\n",
    "    axs.grid(True)\n",
    "    plt.show()"
   ]
  }
 ],
 "metadata": {
  "kernelspec": {
   "display_name": "Python 3 (ipykernel)",
   "language": "python",
   "name": "python3"
  },
  "language_info": {
   "codemirror_mode": {
    "name": "ipython",
    "version": 3
   },
   "file_extension": ".py",
   "mimetype": "text/x-python",
   "name": "python",
   "nbconvert_exporter": "python",
   "pygments_lexer": "ipython3",
   "version": "3.10.12"
  }
 },
 "nbformat": 4,
 "nbformat_minor": 5
}
