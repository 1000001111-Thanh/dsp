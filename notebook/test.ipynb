{
 "cells": [
  {
   "cell_type": "code",
   "execution_count": 2,
   "id": "d0b6a3e9",
   "metadata": {},
   "outputs": [
    {
     "name": "stderr",
     "output_type": "stream",
     "text": [
      "WARNING: All log messages before absl::InitializeLog() is called are written to STDERR\n",
      "E0000 00:00:1745203062.719844   11932 cuda_dnn.cc:8579] Unable to register cuDNN factory: Attempting to register factory for plugin cuDNN when one has already been registered\n",
      "E0000 00:00:1745203062.724127   11932 cuda_blas.cc:1407] Unable to register cuBLAS factory: Attempting to register factory for plugin cuBLAS when one has already been registered\n",
      "W0000 00:00:1745203062.737693   11932 computation_placer.cc:177] computation placer already registered. Please check linkage and avoid linking the same target more than once.\n",
      "W0000 00:00:1745203062.737708   11932 computation_placer.cc:177] computation placer already registered. Please check linkage and avoid linking the same target more than once.\n",
      "W0000 00:00:1745203062.737711   11932 computation_placer.cc:177] computation placer already registered. Please check linkage and avoid linking the same target more than once.\n",
      "W0000 00:00:1745203062.737712   11932 computation_placer.cc:177] computation placer already registered. Please check linkage and avoid linking the same target more than once.\n"
     ]
    }
   ],
   "source": [
    "import os\n",
    "if os.getenv(\"CUDA_VISIBLE_DEVICES\") is None:\n",
    "    gpu_num = 0 # Use \"\" to use the CPU\n",
    "    os.environ[\"CUDA_VISIBLE_DEVICES\"] = f\"{gpu_num}\"\n",
    "os.environ['TF_CPP_MIN_LOG_LEVEL'] = '3'\n",
    "\n",
    "import sionna.phy\n",
    "\n",
    "\n",
    "import tensorflow as tf\n",
    "# Configure the notebook to use only a single GPU and allocate only as much memory as needed\n",
    "# For more details, see https://www.tensorflow.org/guide/gpu\n",
    "gpus = tf.config.list_physical_devices('GPU')\n",
    "if gpus:\n",
    "    try:\n",
    "        tf.config.experimental.set_memory_growth(gpus[0], True)\n",
    "    except RuntimeError as e:\n",
    "        print(e)\n",
    "# Avoid warnings from TensorFlow\n",
    "tf.get_logger().setLevel('ERROR')\n",
    "\n",
    "sionna.phy.config.seed = 42 # Set seed for reproducible results"
   ]
  },
  {
   "cell_type": "code",
   "execution_count": 3,
   "id": "1a6725cf",
   "metadata": {},
   "outputs": [],
   "source": [
    "import sys\n",
    "sys.path.append('../')\n",
    "from src import SystemConfig, UeConfig, MyConfig, MySimulator, MyPUSCHConfig"
   ]
  },
  {
   "cell_type": "code",
   "execution_count": 4,
   "id": "cfbda687",
   "metadata": {},
   "outputs": [],
   "source": [
    "from src.my_pusch_config import MyPUSCHConfig\n",
    "from src.my_encoder import MyTBEncoder\n",
    "from src.my_decoder import MyTBDecoder\n",
    "\n",
    "from sionna.phy.mapping import BinarySource, Mapper\n",
    "from sionna.phy.nr import PUSCHPilotPattern, LayerMapper, LayerDemapper, PUSCHLSChannelEstimator\n",
    "from sionna.phy.ofdm import ResourceGrid, ResourceGridMapper, LinearDetector\n",
    "from sionna.phy.nr.utils import generate_prng_seq\n",
    "from sionna.phy.channel import AWGN, OFDMChannel, gen_single_sector_topology as gen_topology\n",
    "from sionna.phy.mimo import StreamManagement\n",
    "from sionna.phy.channel.tr38901 import Antenna, AntennaArray, UMi, UMa, CDL\n",
    "from sionna.phy import Block\n",
    "\n",
    "\n",
    "import tensorflow as tf\n",
    "import numpy as np"
   ]
  },
  {
   "cell_type": "code",
   "execution_count": 5,
   "id": "6958a560",
   "metadata": {},
   "outputs": [],
   "source": [
    "sys_cfg = SystemConfig(\n",
    "    NCellId=442\n",
    ")\n",
    "ue_cfg = UeConfig()\n",
    "my_cfg = MyConfig(sys_cfg, ue_cfg)\n",
    "my_pusch_cfg = MyPUSCHConfig(my_config=my_cfg)"
   ]
  },
  {
   "cell_type": "code",
   "execution_count": 6,
   "id": "f275f1c6",
   "metadata": {},
   "outputs": [
    {
     "ename": "AttributeError",
     "evalue": "'MyPUSCHConfig' object has no attribute 'pilot_patterns'",
     "output_type": "error",
     "traceback": [
      "\u001b[0;31m---------------------------------------------------------------------------\u001b[0m",
      "\u001b[0;31mAttributeError\u001b[0m                            Traceback (most recent call last)",
      "Cell \u001b[0;32mIn[6], line 1\u001b[0m\n\u001b[0;32m----> 1\u001b[0m mask, pilots \u001b[38;5;241m=\u001b[39m \u001b[43mmy_pusch_cfg\u001b[49m\u001b[38;5;241;43m.\u001b[39;49m\u001b[43mpilot_patterns\u001b[49m\n\u001b[1;32m      2\u001b[0m mask\u001b[38;5;241m.\u001b[39mshape, pilots\u001b[38;5;241m.\u001b[39mshape\n",
      "\u001b[0;31mAttributeError\u001b[0m: 'MyPUSCHConfig' object has no attribute 'pilot_patterns'"
     ]
    }
   ],
   "source": [
    "mask, pilots = my_pusch_cfg.pilot_patterns\n",
    "mask.shape, pilots.shape"
   ]
  },
  {
   "cell_type": "code",
   "execution_count": 7,
   "id": "4ec72e2e",
   "metadata": {},
   "outputs": [],
   "source": [
    "tf.config.run_functions_eagerly(False)"
   ]
  },
  {
   "cell_type": "code",
   "execution_count": 5,
   "id": "8650aebf",
   "metadata": {},
   "outputs": [
    {
     "name": "stdout",
     "output_type": "stream",
     "text": [
      "[[[[False False False ... False False False]\n",
      "   [False False False ... False False False]\n",
      "   [False False False ... False False False]\n",
      "   ...\n",
      "   [ True  True  True ...  True  True  True]\n",
      "   [False False False ... False False False]\n",
      "   [False False False ... False False False]]]]\n"
     ]
    }
   ],
   "source": [
    "my_simulator = MySimulator(my_pusch_cfg)"
   ]
  },
  {
   "cell_type": "code",
   "execution_count": 6,
   "id": "071b61e3",
   "metadata": {},
   "outputs": [
    {
     "data": {
      "text/plain": [
       "{'_precision': 'single',\n",
       " '_pilots': <tf.Variable 'Variable:0' shape=(1, 1, 3888) dtype=complex64, numpy=\n",
       " array([[[-1.+1.j,  0.+0.j,  1.-1.j, ...,  0.+0.j, -1.-1.j,  0.+0.j]]],\n",
       "       dtype=complex64)>,\n",
       " '_mask': <tf.Variable 'Variable:0' shape=(1, 1, 14, 1944) dtype=int32, numpy=\n",
       " array([[[[0, 0, 0, ..., 0, 0, 0],\n",
       "          [0, 0, 0, ..., 0, 0, 0],\n",
       "          [0, 0, 0, ..., 0, 0, 0],\n",
       "          ...,\n",
       "          [1, 1, 1, ..., 1, 1, 1],\n",
       "          [0, 0, 0, ..., 0, 0, 0],\n",
       "          [0, 0, 0, ..., 0, 0, 0]]]], dtype=int32)>,\n",
       " '_normalize': <tf.Tensor: shape=(), dtype=bool, numpy=False>}"
      ]
     },
     "execution_count": 6,
     "metadata": {},
     "output_type": "execute_result"
    }
   ],
   "source": [
    "my_simulator.Resource_Grid_Mapper._resource_grid._pilot_pattern.__dict__"
   ]
  },
  {
   "cell_type": "code",
   "execution_count": 7,
   "id": "e1123ffe",
   "metadata": {},
   "outputs": [
    {
     "name": "stderr",
     "output_type": "stream",
     "text": [
      "WARNING: All log messages before absl::InitializeLog() is called are written to STDERR\n",
      "I0000 00:00:1744785805.467417    1654 service.cc:152] XLA service 0x16b394f0 initialized for platform Host (this does not guarantee that XLA will be used). Devices:\n",
      "I0000 00:00:1744785805.467521    1654 service.cc:160]   StreamExecutor device (0): Host, Default Version\n",
      "I0000 00:00:1744785809.744312    1654 device_compiler.h:188] Compiled cluster using XLA!  This line is logged at most once for the lifetime of the process.\n"
     ]
    }
   ],
   "source": [
    "b,c,y,x = my_simulator(batch_size=2, no_scaling=1e-99, gen_prng_seq=20044, return_tx_iq=True, return_channel=False)"
   ]
  },
  {
   "cell_type": "code",
   "execution_count": 22,
   "id": "d3e2aede",
   "metadata": {},
   "outputs": [],
   "source": [
    "my_simulator(batch_size=2, no_scaling=1e-99, gen_prng_seq=20044, return_tx_iq=False, return_channel=False);"
   ]
  },
  {
   "cell_type": "code",
   "execution_count": 23,
   "id": "f683a8be",
   "metadata": {},
   "outputs": [],
   "source": [
    "my_simulator(batch_size=2, no_scaling=1e-99, gen_prng_seq=20045, return_tx_iq=False, return_channel=False);"
   ]
  },
  {
   "cell_type": "code",
   "execution_count": 24,
   "id": "f2797145",
   "metadata": {},
   "outputs": [
    {
     "name": "stdout",
     "output_type": "stream",
     "text": [
      "18.6 ms ± 1.16 ms per loop (mean ± std. dev. of 7 runs, 10 loops each)\n"
     ]
    }
   ],
   "source": [
    "%timeit my_simulator(batch_size=2, no_scaling=1e-99, gen_prng_seq=20044, return_tx_iq=False, return_channel=False);"
   ]
  },
  {
   "cell_type": "code",
   "execution_count": 8,
   "id": "daaca8f5",
   "metadata": {},
   "outputs": [
    {
     "data": {
      "text/plain": [
       "(<tf.Tensor: shape=(2,), dtype=float32, numpy=array([2770., 2770.], dtype=float32)>,\n",
       " <tf.Tensor: shape=(2,), dtype=float32, numpy=array([23401., 23401.], dtype=float32)>,\n",
       " <tf.Tensor: shape=(2,), dtype=complex64, numpy=array([ 350.75955+230.80492j , -342.63437 -45.109154j], dtype=complex64)>,\n",
       " <tf.Tensor: shape=(2,), dtype=complex64, numpy=array([12.644707-85.88226j, 12.644707-85.88226j], dtype=complex64)>)"
      ]
     },
     "execution_count": 8,
     "metadata": {},
     "output_type": "execute_result"
    }
   ],
   "source": [
    "tf.reduce_sum(b, axis=range(1,len(b.shape))),\\\n",
    "tf.reduce_sum(c, axis=range(1,len(c.shape))),\\\n",
    "tf.reduce_sum(y, axis=range(1,len(y.shape))),\\\n",
    "tf.reduce_sum(x, axis=range(1,len(x.shape)))"
   ]
  },
  {
   "cell_type": "code",
   "execution_count": 9,
   "id": "56acec49",
   "metadata": {},
   "outputs": [
    {
     "data": {
      "text/plain": [
       "((48-18j), (36+46j))"
      ]
     },
     "execution_count": 9,
     "metadata": {},
     "output_type": "execute_result"
    }
   ],
   "source": [
    "your_pusch_cfg = MyPUSCHConfig(\n",
    "                    my_config=MyConfig(\n",
    "                        SystemConfig(NCellId=443),\n",
    "                        UeConfig()\n",
    "                    )\n",
    "                )\n",
    "my_pusch_cfg.dmrs_grid.sum(), your_pusch_cfg.dmrs_grid.sum()"
   ]
  },
  {
   "cell_type": "code",
   "execution_count": 10,
   "id": "b0f2510d",
   "metadata": {},
   "outputs": [
    {
     "data": {
      "text/plain": [
       "{'_precision': 'single',\n",
       " '_pilots': <tf.Variable 'Variable:0' shape=(1, 1, 3888) dtype=complex64, numpy=\n",
       " array([[[-1.+1.j,  0.+0.j,  1.-1.j, ...,  0.+0.j, -1.-1.j,  0.+0.j]]],\n",
       "       dtype=complex64)>,\n",
       " '_mask': <tf.Variable 'Variable:0' shape=(1, 1, 14, 1944) dtype=int32, numpy=\n",
       " array([[[[0, 0, 0, ..., 0, 0, 0],\n",
       "          [0, 0, 0, ..., 0, 0, 0],\n",
       "          [0, 0, 0, ..., 0, 0, 0],\n",
       "          ...,\n",
       "          [1, 1, 1, ..., 1, 1, 1],\n",
       "          [0, 0, 0, ..., 0, 0, 0],\n",
       "          [0, 0, 0, ..., 0, 0, 0]]]], dtype=int32)>,\n",
       " '_normalize': <tf.Tensor: shape=(), dtype=bool, numpy=False>}"
      ]
     },
     "execution_count": 10,
     "metadata": {},
     "output_type": "execute_result"
    }
   ],
   "source": [
    "my_simulator.Resource_Grid_Mapper._resource_grid._pilot_pattern.__dict__"
   ]
  },
  {
   "cell_type": "code",
   "execution_count": 11,
   "id": "e52acb2f",
   "metadata": {},
   "outputs": [
    {
     "data": {
      "text/plain": [
       "(<tf.Tensor: shape=(), dtype=complex64, numpy=(48-18j)>,\n",
       " <tf.Tensor: shape=(), dtype=complex64, numpy=(36+46j)>)"
      ]
     },
     "execution_count": 11,
     "metadata": {},
     "output_type": "execute_result"
    }
   ],
   "source": [
    "from sionna.phy.nr import PUSCHPilotPattern\n",
    "my_pilots = PUSCHPilotPattern([my_pusch_cfg]).pilots\n",
    "your_pilots = PUSCHPilotPattern([your_pusch_cfg]).pilots\n",
    "tf.reduce_sum(my_pilots), tf.reduce_sum(your_pilots)"
   ]
  },
  {
   "cell_type": "code",
   "execution_count": 12,
   "id": "913707e2",
   "metadata": {},
   "outputs": [],
   "source": [
    "my_simulator.update_pilots(your_pilots)"
   ]
  },
  {
   "cell_type": "code",
   "execution_count": 13,
   "id": "fd1d7ee1",
   "metadata": {},
   "outputs": [
    {
     "data": {
      "text/plain": [
       "(<tf.Tensor: shape=(2,), dtype=float32, numpy=array([2770., 2770.], dtype=float32)>,\n",
       " <tf.Tensor: shape=(2,), dtype=float32, numpy=array([23401., 23401.], dtype=float32)>,\n",
       " <tf.Tensor: shape=(2,), dtype=complex64, numpy=array([-282.4751 +248.1613j , -224.63776+366.35632j], dtype=complex64)>,\n",
       " <tf.Tensor: shape=(2,), dtype=complex64, numpy=array([0.6447067-21.88226j, 0.6447067-21.88226j], dtype=complex64)>)"
      ]
     },
     "execution_count": 13,
     "metadata": {},
     "output_type": "execute_result"
    }
   ],
   "source": [
    "b,c,y,x = my_simulator(batch_size=2, no_scaling=1e-99, gen_prng_seq=20044, return_tx_iq=True, return_channel=False)\n",
    "tf.reduce_sum(b, axis=range(1,len(b.shape))),\\\n",
    "tf.reduce_sum(c, axis=range(1,len(c.shape))),\\\n",
    "tf.reduce_sum(y, axis=range(1,len(y.shape))),\\\n",
    "tf.reduce_sum(x, axis=range(1,len(x.shape)))"
   ]
  },
  {
   "cell_type": "code",
   "execution_count": 14,
   "id": "12bac9a4",
   "metadata": {},
   "outputs": [],
   "source": [
    "from src.my_scrambler import MyTB5GScrambler\n",
    "scrambler = MyTB5GScrambler(n_rnti=20069,\n",
    "                            n_id=442,\n",
    "                            binary=True,\n",
    "                            channel_type='PUSCH',\n",
    "                            codeword_index=0,\n",
    "                            precision='single')"
   ]
  },
  {
   "cell_type": "code",
   "execution_count": 5,
   "id": "2dbfd26c",
   "metadata": {},
   "outputs": [],
   "source": [
    "tf.config.run_functions_eagerly(False)"
   ]
  },
  {
   "cell_type": "code",
   "execution_count": 15,
   "id": "28b1fcd3",
   "metadata": {},
   "outputs": [
    {
     "name": "stdout",
     "output_type": "stream",
     "text": [
      "Input:     [[1. 0. 1. 1. 0. 0. 1. 0. 1. 1.]]\n",
      "Scrambled: [[1. 0. 0. 1. 0. 0. 1. 1. 1. 0.]]\n"
     ]
    }
   ],
   "source": [
    "input_bits = tf.constant([[1, 0, 1, 1, 0, 0, 1, 0, 1, 1]], dtype=tf.float32)\n",
    "scrambled = scrambler(input_bits)\n",
    "print(f\"Input:     {input_bits.numpy()}\")\n",
    "print(f\"Scrambled: {scrambled.numpy()}\")"
   ]
  },
  {
   "cell_type": "code",
   "execution_count": 16,
   "id": "51cabc51",
   "metadata": {},
   "outputs": [
    {
     "data": {
      "text/plain": [
       "{'_precision': 'single',\n",
       " '_built': True,\n",
       " '_binary': True,\n",
       " '_check_input': True,\n",
       " '_input_shape': TensorShape([1, 10]),\n",
       " '_multi_stream': False,\n",
       " '_c_init': [657621434],\n",
       " '_sequence': <tf.Variable 'Variable:0' shape=(1, 10) dtype=float32, numpy=array([[0., 0., 1., 0., 0., 0., 0., 1., 0., 1.]], dtype=float32)>}"
      ]
     },
     "execution_count": 16,
     "metadata": {},
     "output_type": "execute_result"
    }
   ],
   "source": [
    "scrambler.__dict__"
   ]
  },
  {
   "cell_type": "code",
   "execution_count": 17,
   "id": "54c63ce2",
   "metadata": {},
   "outputs": [
    {
     "data": {
      "text/plain": [
       "{'_precision': 'single',\n",
       " '_built': True,\n",
       " '_binary': True,\n",
       " '_check_input': True,\n",
       " '_input_shape': TensorShape([1, 10]),\n",
       " '_multi_stream': False,\n",
       " '_c_init': [657621433],\n",
       " '_sequence': <tf.Variable 'Variable:0' shape=(1, 10) dtype=float32, numpy=array([[1., 0., 1., 0., 0., 0., 0., 1., 0., 0.]], dtype=float32)>}"
      ]
     },
     "execution_count": 17,
     "metadata": {},
     "output_type": "execute_result"
    }
   ],
   "source": [
    "scrambler.c_init = 657621433\n",
    "scrambler.__dict__"
   ]
  },
  {
   "cell_type": "code",
   "execution_count": 18,
   "id": "80a624bc",
   "metadata": {},
   "outputs": [
    {
     "name": "stdout",
     "output_type": "stream",
     "text": [
      "Input:     [[1. 0. 1. 1. 0. 0. 1. 0. 1. 1.]]\n",
      "Scrambled: [[0. 0. 0. 1. 0. 0. 1. 1. 1. 1.]]\n"
     ]
    }
   ],
   "source": [
    "scrambled = scrambler(input_bits)\n",
    "print(f\"Input:     {input_bits.numpy()}\")\n",
    "print(f\"Scrambled: {scrambled.numpy()}\")"
   ]
  },
  {
   "cell_type": "code",
   "execution_count": 19,
   "id": "4b86306b",
   "metadata": {},
   "outputs": [
    {
     "name": "stderr",
     "output_type": "stream",
     "text": [
      "/workspaces/dsp/notebook/../src/my_pusch_pilot_pattern.py:143: UserWarning: DMRS port 0 used by multiple transmitters\n",
      "  warnings.warn(msg)\n"
     ]
    }
   ],
   "source": [
    "from src.my_pusch_pilot_pattern import MyPUSCHPilotPattern\n",
    "patterns = MyPUSCHPilotPattern([my_pusch_cfg, your_pusch_cfg])\n"
   ]
  },
  {
   "cell_type": "code",
   "execution_count": 35,
   "id": "cb568a64",
   "metadata": {},
   "outputs": [
    {
     "data": {
      "text/plain": [
       "<tf.Tensor: shape=(2,), dtype=complex64, numpy=array([48.-18.j, 36.+46.j], dtype=complex64)>"
      ]
     },
     "execution_count": 35,
     "metadata": {},
     "output_type": "execute_result"
    }
   ],
   "source": [
    "tf.reduce_sum(patterns.pilots, axis=range(1,len(patterns.pilots.shape)))"
   ]
  },
  {
   "cell_type": "code",
   "execution_count": 20,
   "id": "acd434ef",
   "metadata": {},
   "outputs": [
    {
     "data": {
      "text/plain": [
       "(array([[[False, False, False, ..., False, False, False],\n",
       "         [False, False, False, ..., False, False, False],\n",
       "         [False, False, False, ..., False, False, False],\n",
       "         ...,\n",
       "         [ True,  True,  True, ...,  True,  True,  True],\n",
       "         [False, False, False, ..., False, False, False],\n",
       "         [False, False, False, ..., False, False, False]]]),\n",
       " array([[-1.+1.j,  0.+0.j,  1.-1.j, ...,  0.+0.j, -1.-1.j,  0.+0.j]]))"
      ]
     },
     "execution_count": 20,
     "metadata": {},
     "output_type": "execute_result"
    }
   ],
   "source": [
    "my_pusch_cfg.pilot_patterns"
   ]
  },
  {
   "cell_type": "code",
   "execution_count": 23,
   "id": "410b5412",
   "metadata": {},
   "outputs": [
    {
     "data": {
      "text/plain": [
       "(443,\n",
       " (array([[[False, False, False, ..., False, False, False],\n",
       "          [False, False, False, ..., False, False, False],\n",
       "          [False, False, False, ..., False, False, False],\n",
       "          ...,\n",
       "          [ True,  True,  True, ...,  True,  True,  True],\n",
       "          [False, False, False, ..., False, False, False],\n",
       "          [False, False, False, ..., False, False, False]]]),\n",
       "  array([[-1.+1.j,  0.+0.j,  1.-1.j, ...,  0.+0.j,  1.+1.j,  0.+0.j]])))"
      ]
     },
     "execution_count": 23,
     "metadata": {},
     "output_type": "execute_result"
    }
   ],
   "source": [
    "your_pusch_cfg.phy_cell_id, your_pusch_cfg.pilot_patterns"
   ]
  },
  {
   "cell_type": "code",
   "execution_count": 24,
   "id": "46ea617a",
   "metadata": {},
   "outputs": [
    {
     "data": {
      "text/plain": [
       "(443,\n",
       " (array([[[False, False, False, ..., False, False, False],\n",
       "          [False, False, False, ..., False, False, False],\n",
       "          [False, False, False, ..., False, False, False],\n",
       "          ...,\n",
       "          [ True,  True,  True, ...,  True,  True,  True],\n",
       "          [False, False, False, ..., False, False, False],\n",
       "          [False, False, False, ..., False, False, False]]]),\n",
       "  array([[-1.+1.j,  0.+0.j,  1.-1.j, ...,  0.+0.j,  1.+1.j,  0.+0.j]])))"
      ]
     },
     "execution_count": 24,
     "metadata": {},
     "output_type": "execute_result"
    }
   ],
   "source": [
    "my_pusch_cfg.phy_cell_id = 443\n",
    "my_pusch_cfg.phy_cell_id, my_pusch_cfg.pilot_patterns"
   ]
  },
  {
   "cell_type": "code",
   "execution_count": 25,
   "id": "edca9820",
   "metadata": {},
   "outputs": [
    {
     "data": {
      "text/plain": [
       "(443,\n",
       " (array([[[False, False, False, ..., False, False, False],\n",
       "          [False, False, False, ..., False, False, False],\n",
       "          [ True,  True,  True, ...,  True,  True,  True],\n",
       "          ...,\n",
       "          [ True,  True,  True, ...,  True,  True,  True],\n",
       "          [False, False, False, ..., False, False, False],\n",
       "          [False, False, False, ..., False, False, False]]]),\n",
       "  array([[ 1.-1.j,  0.+0.j, -1.+1.j, ...,  0.+0.j,  1.+1.j,  0.+0.j]])))"
      ]
     },
     "execution_count": 25,
     "metadata": {},
     "output_type": "execute_result"
    }
   ],
   "source": [
    "my_pusch_cfg.dmrs.type_a_position = 2\n",
    "my_pusch_cfg.phy_cell_id, my_pusch_cfg.pilot_patterns"
   ]
  }
 ],
 "metadata": {
  "kernelspec": {
   "display_name": ".venv",
   "language": "python",
   "name": "python3"
  },
  "language_info": {
   "codemirror_mode": {
    "name": "ipython",
    "version": 3
   },
   "file_extension": ".py",
   "mimetype": "text/x-python",
   "name": "python",
   "nbconvert_exporter": "python",
   "pygments_lexer": "ipython3",
   "version": "3.10.17"
  }
 },
 "nbformat": 4,
 "nbformat_minor": 5
}
